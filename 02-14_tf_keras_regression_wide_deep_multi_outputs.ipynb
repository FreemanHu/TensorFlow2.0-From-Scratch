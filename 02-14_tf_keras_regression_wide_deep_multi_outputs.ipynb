{
 "cells": [
  {
   "cell_type": "code",
   "execution_count": 1,
   "metadata": {},
   "outputs": [
    {
     "name": "stdout",
     "output_type": "stream",
     "text": [
      "2.0.0-alpha0\n",
      "sys.version_info(major=3, minor=7, micro=6, releaselevel='final', serial=0)\n",
      "matplotlib 3.2.0\n",
      "numpy 1.16.2\n",
      "pandas 1.0.1\n",
      "sklearn 0.22.2.post1\n",
      "tensorflow 2.0.0-alpha0\n",
      "tensorflow.python.keras.api._v2.keras 2.2.4-tf\n"
     ]
    }
   ],
   "source": [
    "import matplotlib as mpl\n",
    "import matplotlib.pyplot as plt\n",
    "%matplotlib inline\n",
    "import numpy as np\n",
    "import sklearn\n",
    "import pandas as pd\n",
    "import os\n",
    "import sys\n",
    "import time\n",
    "import tensorflow as tf\n",
    "\n",
    "from tensorflow import keras\n",
    "\n",
    "print(tf.__version__)\n",
    "print(sys.version_info)\n",
    "for module in mpl, np, pd, sklearn, tf, keras:\n",
    "    print(module.__name__, module.__version__)"
   ]
  },
  {
   "cell_type": "code",
   "execution_count": 2,
   "metadata": {},
   "outputs": [
    {
     "name": "stdout",
     "output_type": "stream",
     "text": [
      ".. _california_housing_dataset:\n",
      "\n",
      "California Housing dataset\n",
      "--------------------------\n",
      "\n",
      "**Data Set Characteristics:**\n",
      "\n",
      "    :Number of Instances: 20640\n",
      "\n",
      "    :Number of Attributes: 8 numeric, predictive attributes and the target\n",
      "\n",
      "    :Attribute Information:\n",
      "        - MedInc        median income in block\n",
      "        - HouseAge      median house age in block\n",
      "        - AveRooms      average number of rooms\n",
      "        - AveBedrms     average number of bedrooms\n",
      "        - Population    block population\n",
      "        - AveOccup      average house occupancy\n",
      "        - Latitude      house block latitude\n",
      "        - Longitude     house block longitude\n",
      "\n",
      "    :Missing Attribute Values: None\n",
      "\n",
      "This dataset was obtained from the StatLib repository.\n",
      "http://lib.stat.cmu.edu/datasets/\n",
      "\n",
      "The target variable is the median house value for California districts.\n",
      "\n",
      "This dataset was derived from the 1990 U.S. census, using one row per census\n",
      "block group. A block group is the smallest geographical unit for which the U.S.\n",
      "Census Bureau publishes sample data (a block group typically has a population\n",
      "of 600 to 3,000 people).\n",
      "\n",
      "It can be downloaded/loaded using the\n",
      ":func:`sklearn.datasets.fetch_california_housing` function.\n",
      "\n",
      ".. topic:: References\n",
      "\n",
      "    - Pace, R. Kelley and Ronald Barry, Sparse Spatial Autoregressions,\n",
      "      Statistics and Probability Letters, 33 (1997) 291-297\n",
      "\n",
      "(20640, 8)\n",
      "(20640,)\n"
     ]
    }
   ],
   "source": [
    "from sklearn.datasets import fetch_california_housing\n",
    "housing = fetch_california_housing()\n",
    "print(housing.DESCR)\n",
    "print(housing.data.shape)\n",
    "print(housing.target.shape)"
   ]
  },
  {
   "cell_type": "code",
   "execution_count": 3,
   "metadata": {},
   "outputs": [
    {
     "name": "stdout",
     "output_type": "stream",
     "text": [
      "array([[ 8.32520000e+00,  4.10000000e+01,  6.98412698e+00,\n",
      "         1.02380952e+00,  3.22000000e+02,  2.55555556e+00,\n",
      "         3.78800000e+01, -1.22230000e+02],\n",
      "       [ 8.30140000e+00,  2.10000000e+01,  6.23813708e+00,\n",
      "         9.71880492e-01,  2.40100000e+03,  2.10984183e+00,\n",
      "         3.78600000e+01, -1.22220000e+02],\n",
      "       [ 7.25740000e+00,  5.20000000e+01,  8.28813559e+00,\n",
      "         1.07344633e+00,  4.96000000e+02,  2.80225989e+00,\n",
      "         3.78500000e+01, -1.22240000e+02],\n",
      "       [ 5.64310000e+00,  5.20000000e+01,  5.81735160e+00,\n",
      "         1.07305936e+00,  5.58000000e+02,  2.54794521e+00,\n",
      "         3.78500000e+01, -1.22250000e+02],\n",
      "       [ 3.84620000e+00,  5.20000000e+01,  6.28185328e+00,\n",
      "         1.08108108e+00,  5.65000000e+02,  2.18146718e+00,\n",
      "         3.78500000e+01, -1.22250000e+02]])\n",
      "array([4.526, 3.585, 3.521, 3.413, 3.422])\n"
     ]
    }
   ],
   "source": [
    "import pprint\n",
    "\n",
    "pprint.pprint(housing.data[0:5])\n",
    "pprint.pprint(housing.target[0:5])"
   ]
  },
  {
   "cell_type": "code",
   "execution_count": 4,
   "metadata": {},
   "outputs": [
    {
     "name": "stdout",
     "output_type": "stream",
     "text": [
      "(11610, 8) (11610,)\n",
      "(3870, 8) (3870,)\n",
      "(5160, 8) (5160,)\n"
     ]
    }
   ],
   "source": [
    "# 分割数据集的工具\n",
    "from sklearn.model_selection import train_test_split\n",
    "\n",
    "# 分割训练集和测试集，比例为3:1\n",
    "x_train_all, x_test, y_train_all, y_test = train_test_split(\n",
    "    housing.data, housing.target, random_state = 7) \n",
    "# 分割训练集和开发集，比例是3:1，总的比例是9:3:4\n",
    "x_train, x_valid, y_train, y_valid = train_test_split(\n",
    "    x_train_all, y_train_all, random_state = 11)\n",
    "\n",
    "print(x_train.shape, y_train.shape)\n",
    "print(x_valid.shape, y_valid.shape)\n",
    "print(x_test.shape, y_test.shape)\n"
   ]
  },
  {
   "cell_type": "code",
   "execution_count": 5,
   "metadata": {},
   "outputs": [],
   "source": [
    "# 标准归一化工具\n",
    "from sklearn.preprocessing import StandardScaler\n",
    "\n",
    "scaler = StandardScaler()\n",
    "x_train_scaled = scaler.fit_transform(x_train)\n",
    "x_valid_scaled = scaler.transform(x_valid)\n",
    "x_test_scaled = scaler.transform(x_test)"
   ]
  },
  {
   "cell_type": "code",
   "execution_count": 6,
   "metadata": {},
   "outputs": [],
   "source": [
    "x_train_scaled_wide = x_train_scaled[:,:5]\n",
    "x_valid_scaled_wide = x_valid_scaled[:,:5]\n",
    "x_test_scaled_wide = x_test_scaled[:,:5]\n",
    "\n",
    "x_train_scaled_deep = x_train_scaled[:,-6:]\n",
    "x_valid_scaled_deep = x_valid_scaled[:,-6:]\n",
    "x_test_scaled_deep = x_test_scaled[:,-6:]"
   ]
  },
  {
   "cell_type": "code",
   "execution_count": 7,
   "metadata": {},
   "outputs": [
    {
     "name": "stdout",
     "output_type": "stream",
     "text": [
      "Model: \"model\"\n",
      "__________________________________________________________________________________________________\n",
      "Layer (type)                    Output Shape         Param #     Connected to                     \n",
      "==================================================================================================\n",
      "input_2 (InputLayer)            [(None, 6)]          0                                            \n",
      "__________________________________________________________________________________________________\n",
      "dense (Dense)                   (None, 30)           210         input_2[0][0]                    \n",
      "__________________________________________________________________________________________________\n",
      "input_1 (InputLayer)            [(None, 5)]          0                                            \n",
      "__________________________________________________________________________________________________\n",
      "dense_1 (Dense)                 (None, 30)           930         dense[0][0]                      \n",
      "__________________________________________________________________________________________________\n",
      "concatenate (Concatenate)       (None, 35)           0           input_1[0][0]                    \n",
      "                                                                 dense_1[0][0]                    \n",
      "__________________________________________________________________________________________________\n",
      "dense_2 (Dense)                 (None, 1)            36          concatenate[0][0]                \n",
      "__________________________________________________________________________________________________\n",
      "dense_3 (Dense)                 (None, 1)            31          dense_1[0][0]                    \n",
      "==================================================================================================\n",
      "Total params: 1,207\n",
      "Trainable params: 1,207\n",
      "Non-trainable params: 0\n",
      "__________________________________________________________________________________________________\n"
     ]
    }
   ],
   "source": [
    "input_wide = keras.layers.Input(shape=x_train_scaled_wide.shape[1:])\n",
    "input_deep = keras.layers.Input(shape=x_train_scaled_deep.shape[1:])\n",
    "\n",
    "X = keras.layers.Dense(30,activation='relu',)(input_deep)\n",
    "X = keras.layers.Dense(30,activation='relu')(X)\n",
    "concat = keras.layers.concatenate([input_wide,X])\n",
    "output1 = keras.layers.Dense(1)(concat)\n",
    "output2 = keras.layers.Dense(1)(X)\n",
    "\n",
    "model = keras.models.Model(inputs=[input_wide,input_deep],outputs=[output1,output2])\n",
    "model.summary()"
   ]
  },
  {
   "cell_type": "code",
   "execution_count": 10,
   "metadata": {},
   "outputs": [
    {
     "name": "stdout",
     "output_type": "stream",
     "text": [
      "Train on 11610 samples, validate on 3870 samples\n",
      "Epoch 1/100\n",
      "11610/11610 [==============================] - 1s 88us/sample - loss: 4.5754 - dense_2_loss: 2.2158 - dense_3_loss: 2.3596 - val_loss: 2.2995 - val_dense_2_loss: 0.8969 - val_dense_3_loss: 1.4027\n",
      "Epoch 2/100\n",
      "11610/11610 [==============================] - 1s 56us/sample - loss: 1.9268 - dense_2_loss: 0.7439 - dense_3_loss: 1.1829 - val_loss: 1.9239 - val_dense_2_loss: 0.7287 - val_dense_3_loss: 1.1952\n",
      "Epoch 3/100\n",
      "11610/11610 [==============================] - 1s 56us/sample - loss: 1.7037 - dense_2_loss: 0.6485 - dense_3_loss: 1.0551 - val_loss: 1.7326 - val_dense_2_loss: 0.6632 - val_dense_3_loss: 1.0693\n",
      "Epoch 4/100\n",
      "11610/11610 [==============================] - 1s 56us/sample - loss: 1.5424 - dense_2_loss: 0.5996 - dense_3_loss: 0.9428 - val_loss: 1.5738 - val_dense_2_loss: 0.6214 - val_dense_3_loss: 0.9524\n",
      "Epoch 5/100\n",
      "11610/11610 [==============================] - 1s 56us/sample - loss: 1.4156 - dense_2_loss: 0.5690 - dense_3_loss: 0.8466 - val_loss: 1.4597 - val_dense_2_loss: 0.5943 - val_dense_3_loss: 0.8654\n",
      "Epoch 6/100\n",
      "11610/11610 [==============================] - 1s 56us/sample - loss: 1.3246 - dense_2_loss: 0.5477 - dense_3_loss: 0.7769 - val_loss: 1.3773 - val_dense_2_loss: 0.5745 - val_dense_3_loss: 0.8028\n",
      "Epoch 7/100\n",
      "11610/11610 [==============================] - 1s 56us/sample - loss: 1.2654 - dense_2_loss: 0.5319 - dense_3_loss: 0.7335 - val_loss: 1.3305 - val_dense_2_loss: 0.5585 - val_dense_3_loss: 0.7720\n",
      "Epoch 8/100\n",
      "11610/11610 [==============================] - 1s 73us/sample - loss: 1.2257 - dense_2_loss: 0.5194 - dense_3_loss: 0.7063 - val_loss: 1.2899 - val_dense_2_loss: 0.5444 - val_dense_3_loss: 0.7455\n",
      "Epoch 9/100\n",
      "11610/11610 [==============================] - 1s 72us/sample - loss: 1.1961 - dense_2_loss: 0.5093 - dense_3_loss: 0.6869 - val_loss: 1.2570 - val_dense_2_loss: 0.5326 - val_dense_3_loss: 0.7244\n",
      "Epoch 10/100\n",
      "11610/11610 [==============================] - 1s 67us/sample - loss: 1.1719 - dense_2_loss: 0.5014 - dense_3_loss: 0.6705 - val_loss: 1.2323 - val_dense_2_loss: 0.5243 - val_dense_3_loss: 0.7079\n",
      "Epoch 11/100\n",
      "11610/11610 [==============================] - 1s 80us/sample - loss: 1.1513 - dense_2_loss: 0.4942 - dense_3_loss: 0.6571 - val_loss: 1.2070 - val_dense_2_loss: 0.5178 - val_dense_3_loss: 0.6893\n",
      "Epoch 12/100\n",
      "11610/11610 [==============================] - 1s 61us/sample - loss: 1.1311 - dense_2_loss: 0.4866 - dense_3_loss: 0.6444 - val_loss: 1.1911 - val_dense_2_loss: 0.5093 - val_dense_3_loss: 0.6818\n",
      "Epoch 13/100\n",
      "11610/11610 [==============================] - 1s 56us/sample - loss: 1.1132 - dense_2_loss: 0.4801 - dense_3_loss: 0.6331 - val_loss: 1.1691 - val_dense_2_loss: 0.5058 - val_dense_3_loss: 0.6633\n",
      "Epoch 14/100\n",
      "11610/11610 [==============================] - 1s 55us/sample - loss: 1.0984 - dense_2_loss: 0.4753 - dense_3_loss: 0.6231 - val_loss: 1.1523 - val_dense_2_loss: 0.4999 - val_dense_3_loss: 0.6524\n",
      "Epoch 15/100\n",
      "11610/11610 [==============================] - 1s 60us/sample - loss: 1.0835 - dense_2_loss: 0.4693 - dense_3_loss: 0.6142 - val_loss: 1.1382 - val_dense_2_loss: 0.4915 - val_dense_3_loss: 0.6467\n",
      "Epoch 16/100\n",
      "11610/11610 [==============================] - 1s 77us/sample - loss: 1.0711 - dense_2_loss: 0.4654 - dense_3_loss: 0.6057 - val_loss: 1.1188 - val_dense_2_loss: 0.4860 - val_dense_3_loss: 0.6327\n",
      "Epoch 17/100\n",
      "11610/11610 [==============================] - 1s 60us/sample - loss: 1.0579 - dense_2_loss: 0.4601 - dense_3_loss: 0.5977 - val_loss: 1.1121 - val_dense_2_loss: 0.4832 - val_dense_3_loss: 0.6289\n",
      "Epoch 18/100\n",
      "11610/11610 [==============================] - 1s 63us/sample - loss: 1.0461 - dense_2_loss: 0.4551 - dense_3_loss: 0.5910 - val_loss: 1.0946 - val_dense_2_loss: 0.4758 - val_dense_3_loss: 0.6188\n",
      "Epoch 19/100\n",
      "11610/11610 [==============================] - 1s 59us/sample - loss: 1.0359 - dense_2_loss: 0.4507 - dense_3_loss: 0.5852 - val_loss: 1.0825 - val_dense_2_loss: 0.4703 - val_dense_3_loss: 0.6122\n",
      "Epoch 20/100\n",
      "11610/11610 [==============================] - 1s 60us/sample - loss: 1.0265 - dense_2_loss: 0.4472 - dense_3_loss: 0.5794 - val_loss: 1.0717 - val_dense_2_loss: 0.4660 - val_dense_3_loss: 0.6057\n",
      "Epoch 21/100\n",
      "11610/11610 [==============================] - 1s 57us/sample - loss: 1.0173 - dense_2_loss: 0.4439 - dense_3_loss: 0.5734 - val_loss: 1.0666 - val_dense_2_loss: 0.4651 - val_dense_3_loss: 0.6016\n",
      "Epoch 22/100\n",
      "11610/11610 [==============================] - 1s 68us/sample - loss: 1.0076 - dense_2_loss: 0.4397 - dense_3_loss: 0.5680 - val_loss: 1.0546 - val_dense_2_loss: 0.4586 - val_dense_3_loss: 0.5960\n",
      "Epoch 23/100\n",
      "11610/11610 [==============================] - 1s 56us/sample - loss: 0.9984 - dense_2_loss: 0.4353 - dense_3_loss: 0.5631 - val_loss: 1.0486 - val_dense_2_loss: 0.4560 - val_dense_3_loss: 0.5927\n",
      "Epoch 24/100\n",
      "11610/11610 [==============================] - 1s 75us/sample - loss: 0.9922 - dense_2_loss: 0.4332 - dense_3_loss: 0.5590 - val_loss: 1.0360 - val_dense_2_loss: 0.4508 - val_dense_3_loss: 0.5852\n",
      "Epoch 25/100\n",
      "11610/11610 [==============================] - 1s 82us/sample - loss: 0.9834 - dense_2_loss: 0.4294 - dense_3_loss: 0.5540 - val_loss: 1.0281 - val_dense_2_loss: 0.4481 - val_dense_3_loss: 0.5800\n",
      "Epoch 26/100\n",
      "11610/11610 [==============================] - 1s 80us/sample - loss: 0.9756 - dense_2_loss: 0.4257 - dense_3_loss: 0.5499 - val_loss: 1.0208 - val_dense_2_loss: 0.4433 - val_dense_3_loss: 0.5775\n",
      "Epoch 27/100\n",
      "11610/11610 [==============================] - 1s 103us/sample - loss: 0.9677 - dense_2_loss: 0.4226 - dense_3_loss: 0.5451 - val_loss: 1.0124 - val_dense_2_loss: 0.4410 - val_dense_3_loss: 0.5715\n",
      "Epoch 28/100\n",
      "11610/11610 [==============================] - 1s 66us/sample - loss: 0.9606 - dense_2_loss: 0.4197 - dense_3_loss: 0.5409 - val_loss: 1.0060 - val_dense_2_loss: 0.4383 - val_dense_3_loss: 0.5677\n",
      "Epoch 29/100\n",
      "11610/11610 [==============================] - 1s 70us/sample - loss: 0.9540 - dense_2_loss: 0.4172 - dense_3_loss: 0.5369 - val_loss: 0.9980 - val_dense_2_loss: 0.4364 - val_dense_3_loss: 0.5616\n",
      "Epoch 30/100\n",
      "11610/11610 [==============================] - 1s 86us/sample - loss: 0.9468 - dense_2_loss: 0.4140 - dense_3_loss: 0.5328 - val_loss: 0.9967 - val_dense_2_loss: 0.4365 - val_dense_3_loss: 0.5602\n",
      "Epoch 31/100\n",
      "11610/11610 [==============================] - 1s 104us/sample - loss: 0.9410 - dense_2_loss: 0.4114 - dense_3_loss: 0.5296 - val_loss: 0.9885 - val_dense_2_loss: 0.4357 - val_dense_3_loss: 0.5528\n",
      "Epoch 32/100\n",
      "11610/11610 [==============================] - 1s 96us/sample - loss: 0.9344 - dense_2_loss: 0.4089 - dense_3_loss: 0.5255 - val_loss: 0.9815 - val_dense_2_loss: 0.4287 - val_dense_3_loss: 0.5528\n",
      "Epoch 33/100\n",
      "11610/11610 [==============================] - 1s 95us/sample - loss: 0.9299 - dense_2_loss: 0.4077 - dense_3_loss: 0.5222 - val_loss: 0.9753 - val_dense_2_loss: 0.4276 - val_dense_3_loss: 0.5476\n",
      "Epoch 34/100\n",
      "11610/11610 [==============================] - 1s 71us/sample - loss: 0.9243 - dense_2_loss: 0.4053 - dense_3_loss: 0.5190 - val_loss: 0.9697 - val_dense_2_loss: 0.4273 - val_dense_3_loss: 0.5425\n",
      "Epoch 35/100\n",
      "11610/11610 [==============================] - 1s 65us/sample - loss: 0.9198 - dense_2_loss: 0.4038 - dense_3_loss: 0.5160 - val_loss: 0.9632 - val_dense_2_loss: 0.4224 - val_dense_3_loss: 0.5407\n",
      "Epoch 36/100\n",
      "11610/11610 [==============================] - 1s 81us/sample - loss: 0.9146 - dense_2_loss: 0.4023 - dense_3_loss: 0.5123 - val_loss: 0.9546 - val_dense_2_loss: 0.4210 - val_dense_3_loss: 0.5336\n",
      "Epoch 37/100\n",
      "11610/11610 [==============================] - 1s 66us/sample - loss: 0.9099 - dense_2_loss: 0.3994 - dense_3_loss: 0.5105 - val_loss: 0.9523 - val_dense_2_loss: 0.4187 - val_dense_3_loss: 0.5337\n",
      "Epoch 38/100\n",
      "11610/11610 [==============================] - 1s 67us/sample - loss: 0.9044 - dense_2_loss: 0.3981 - dense_3_loss: 0.5063 - val_loss: 0.9491 - val_dense_2_loss: 0.4156 - val_dense_3_loss: 0.5334\n",
      "Epoch 39/100\n",
      "11610/11610 [==============================] - 1s 71us/sample - loss: 0.9006 - dense_2_loss: 0.3963 - dense_3_loss: 0.5043 - val_loss: 0.9478 - val_dense_2_loss: 0.4209 - val_dense_3_loss: 0.5269\n"
     ]
    },
    {
     "name": "stdout",
     "output_type": "stream",
     "text": [
      "Epoch 40/100\n",
      "11610/11610 [==============================] - 1s 57us/sample - loss: 0.8950 - dense_2_loss: 0.3946 - dense_3_loss: 0.5004 - val_loss: 0.9386 - val_dense_2_loss: 0.4144 - val_dense_3_loss: 0.5242\n",
      "Epoch 41/100\n",
      "11610/11610 [==============================] - 1s 75us/sample - loss: 0.8907 - dense_2_loss: 0.3937 - dense_3_loss: 0.4970 - val_loss: 0.9337 - val_dense_2_loss: 0.4139 - val_dense_3_loss: 0.5198\n",
      "Epoch 42/100\n",
      "11610/11610 [==============================] - 1s 66us/sample - loss: 0.8858 - dense_2_loss: 0.3916 - dense_3_loss: 0.4942 - val_loss: 0.9387 - val_dense_2_loss: 0.4159 - val_dense_3_loss: 0.5228\n",
      "Epoch 43/100\n",
      "11610/11610 [==============================] - 1s 67us/sample - loss: 0.8822 - dense_2_loss: 0.3904 - dense_3_loss: 0.4918 - val_loss: 0.9276 - val_dense_2_loss: 0.4143 - val_dense_3_loss: 0.5134\n",
      "Epoch 44/100\n",
      "11610/11610 [==============================] - 1s 60us/sample - loss: 0.8772 - dense_2_loss: 0.3891 - dense_3_loss: 0.4881 - val_loss: 0.9167 - val_dense_2_loss: 0.4080 - val_dense_3_loss: 0.5087\n",
      "Epoch 45/100\n",
      "11610/11610 [==============================] - 1s 55us/sample - loss: 0.8730 - dense_2_loss: 0.3867 - dense_3_loss: 0.4863 - val_loss: 0.9150 - val_dense_2_loss: 0.4092 - val_dense_3_loss: 0.5058\n",
      "Epoch 46/100\n",
      "11610/11610 [==============================] - 1s 55us/sample - loss: 0.8681 - dense_2_loss: 0.3854 - dense_3_loss: 0.4826 - val_loss: 0.9087 - val_dense_2_loss: 0.4042 - val_dense_3_loss: 0.5045\n",
      "Epoch 47/100\n",
      "11610/11610 [==============================] - 1s 55us/sample - loss: 0.8643 - dense_2_loss: 0.3844 - dense_3_loss: 0.4798 - val_loss: 0.9063 - val_dense_2_loss: 0.4058 - val_dense_3_loss: 0.5005\n",
      "Epoch 48/100\n",
      "11610/11610 [==============================] - 1s 55us/sample - loss: 0.8595 - dense_2_loss: 0.3827 - dense_3_loss: 0.4768 - val_loss: 0.9062 - val_dense_2_loss: 0.4063 - val_dense_3_loss: 0.4998\n",
      "Epoch 49/100\n",
      "11610/11610 [==============================] - 1s 60us/sample - loss: 0.8545 - dense_2_loss: 0.3804 - dense_3_loss: 0.4742 - val_loss: 0.8969 - val_dense_2_loss: 0.4007 - val_dense_3_loss: 0.4962\n",
      "Epoch 50/100\n",
      "11610/11610 [==============================] - 1s 95us/sample - loss: 0.8505 - dense_2_loss: 0.3798 - dense_3_loss: 0.4708 - val_loss: 0.8889 - val_dense_2_loss: 0.3989 - val_dense_3_loss: 0.4901\n",
      "Epoch 51/100\n",
      "11610/11610 [==============================] - 1s 80us/sample - loss: 0.8458 - dense_2_loss: 0.3775 - dense_3_loss: 0.4683 - val_loss: 0.8872 - val_dense_2_loss: 0.3976 - val_dense_3_loss: 0.4897\n",
      "Epoch 52/100\n",
      "11610/11610 [==============================] - 1s 73us/sample - loss: 0.8413 - dense_2_loss: 0.3762 - dense_3_loss: 0.4651 - val_loss: 0.8807 - val_dense_2_loss: 0.3962 - val_dense_3_loss: 0.4845\n",
      "Epoch 53/100\n",
      "11610/11610 [==============================] - 1s 66us/sample - loss: 0.8362 - dense_2_loss: 0.3737 - dense_3_loss: 0.4625 - val_loss: 0.8766 - val_dense_2_loss: 0.3941 - val_dense_3_loss: 0.4824\n",
      "Epoch 54/100\n",
      "11610/11610 [==============================] - 1s 76us/sample - loss: 0.8316 - dense_2_loss: 0.3718 - dense_3_loss: 0.4598 - val_loss: 0.8755 - val_dense_2_loss: 0.3923 - val_dense_3_loss: 0.4832\n",
      "Epoch 55/100\n",
      "11610/11610 [==============================] - 1s 63us/sample - loss: 0.8285 - dense_2_loss: 0.3704 - dense_3_loss: 0.4581 - val_loss: 0.8666 - val_dense_2_loss: 0.3891 - val_dense_3_loss: 0.4774\n",
      "Epoch 56/100\n",
      "11610/11610 [==============================] - 1s 109us/sample - loss: 0.8241 - dense_2_loss: 0.3697 - dense_3_loss: 0.4544 - val_loss: 0.8619 - val_dense_2_loss: 0.3869 - val_dense_3_loss: 0.4750\n",
      "Epoch 57/100\n",
      "11610/11610 [==============================] - 1s 58us/sample - loss: 0.8206 - dense_2_loss: 0.3679 - dense_3_loss: 0.4527 - val_loss: 0.8626 - val_dense_2_loss: 0.3883 - val_dense_3_loss: 0.4743\n",
      "Epoch 58/100\n",
      "11610/11610 [==============================] - 1s 83us/sample - loss: 0.8159 - dense_2_loss: 0.3666 - dense_3_loss: 0.4493 - val_loss: 0.8537 - val_dense_2_loss: 0.3840 - val_dense_3_loss: 0.4696\n",
      "Epoch 59/100\n",
      "11610/11610 [==============================] - 1s 60us/sample - loss: 0.8124 - dense_2_loss: 0.3649 - dense_3_loss: 0.4475 - val_loss: 0.8523 - val_dense_2_loss: 0.3846 - val_dense_3_loss: 0.4678\n",
      "Epoch 60/100\n",
      "11610/11610 [==============================] - 1s 56us/sample - loss: 0.8087 - dense_2_loss: 0.3638 - dense_3_loss: 0.4449 - val_loss: 0.8519 - val_dense_2_loss: 0.3848 - val_dense_3_loss: 0.4671\n",
      "Epoch 61/100\n",
      "11610/11610 [==============================] - 1s 56us/sample - loss: 0.8065 - dense_2_loss: 0.3628 - dense_3_loss: 0.4437 - val_loss: 0.8429 - val_dense_2_loss: 0.3806 - val_dense_3_loss: 0.4623\n",
      "Epoch 62/100\n",
      "11610/11610 [==============================] - 1s 60us/sample - loss: 0.8024 - dense_2_loss: 0.3617 - dense_3_loss: 0.4407 - val_loss: 0.8417 - val_dense_2_loss: 0.3803 - val_dense_3_loss: 0.4614\n",
      "Epoch 63/100\n",
      "11610/11610 [==============================] - 1s 82us/sample - loss: 0.7983 - dense_2_loss: 0.3604 - dense_3_loss: 0.4379 - val_loss: 0.8420 - val_dense_2_loss: 0.3803 - val_dense_3_loss: 0.4617\n",
      "Epoch 64/100\n",
      "11610/11610 [==============================] - 1s 81us/sample - loss: 0.7958 - dense_2_loss: 0.3596 - dense_3_loss: 0.4362 - val_loss: 0.8333 - val_dense_2_loss: 0.3770 - val_dense_3_loss: 0.4563\n",
      "Epoch 65/100\n",
      "11610/11610 [==============================] - 1s 63us/sample - loss: 0.7938 - dense_2_loss: 0.3581 - dense_3_loss: 0.4357 - val_loss: 0.8280 - val_dense_2_loss: 0.3751 - val_dense_3_loss: 0.4529\n",
      "Epoch 66/100\n",
      "11610/11610 [==============================] - 1s 94us/sample - loss: 0.7887 - dense_2_loss: 0.3568 - dense_3_loss: 0.4319 - val_loss: 0.8243 - val_dense_2_loss: 0.3742 - val_dense_3_loss: 0.4501\n",
      "Epoch 67/100\n",
      "11610/11610 [==============================] - 1s 63us/sample - loss: 0.7872 - dense_2_loss: 0.3563 - dense_3_loss: 0.4309 - val_loss: 0.8289 - val_dense_2_loss: 0.3769 - val_dense_3_loss: 0.4520\n",
      "Epoch 68/100\n",
      "11610/11610 [==============================] - 1s 79us/sample - loss: 0.7880 - dense_2_loss: 0.3567 - dense_3_loss: 0.4313 - val_loss: 0.8229 - val_dense_2_loss: 0.3733 - val_dense_3_loss: 0.4496\n",
      "Epoch 69/100\n",
      "11610/11610 [==============================] - 1s 74us/sample - loss: 0.7817 - dense_2_loss: 0.3540 - dense_3_loss: 0.4277 - val_loss: 0.8173 - val_dense_2_loss: 0.3712 - val_dense_3_loss: 0.4461\n",
      "Epoch 70/100\n",
      "11610/11610 [==============================] - 1s 64us/sample - loss: 0.7778 - dense_2_loss: 0.3528 - dense_3_loss: 0.4251 - val_loss: 0.8112 - val_dense_2_loss: 0.3694 - val_dense_3_loss: 0.4418\n",
      "Epoch 71/100\n",
      "11610/11610 [==============================] - 1s 72us/sample - loss: 0.7758 - dense_2_loss: 0.3518 - dense_3_loss: 0.4240 - val_loss: 0.8114 - val_dense_2_loss: 0.3688 - val_dense_3_loss: 0.4426\n",
      "Epoch 72/100\n",
      "11610/11610 [==============================] - 1s 64us/sample - loss: 0.7737 - dense_2_loss: 0.3514 - dense_3_loss: 0.4223 - val_loss: 0.8088 - val_dense_2_loss: 0.3685 - val_dense_3_loss: 0.4404\n",
      "Epoch 73/100\n",
      "11610/11610 [==============================] - 1s 66us/sample - loss: 0.7706 - dense_2_loss: 0.3501 - dense_3_loss: 0.4205 - val_loss: 0.8045 - val_dense_2_loss: 0.3666 - val_dense_3_loss: 0.4378\n",
      "Epoch 74/100\n",
      "11610/11610 [==============================] - 1s 76us/sample - loss: 0.7687 - dense_2_loss: 0.3492 - dense_3_loss: 0.4195 - val_loss: 0.8069 - val_dense_2_loss: 0.3663 - val_dense_3_loss: 0.4405\n",
      "Epoch 75/100\n",
      "11610/11610 [==============================] - 1s 58us/sample - loss: 0.7658 - dense_2_loss: 0.3484 - dense_3_loss: 0.4175 - val_loss: 0.8024 - val_dense_2_loss: 0.3658 - val_dense_3_loss: 0.4366\n",
      "Epoch 76/100\n",
      "11610/11610 [==============================] - 1s 57us/sample - loss: 0.7633 - dense_2_loss: 0.3471 - dense_3_loss: 0.4162 - val_loss: 0.7984 - val_dense_2_loss: 0.3641 - val_dense_3_loss: 0.4343\n",
      "Epoch 77/100\n",
      "11610/11610 [==============================] - 1s 56us/sample - loss: 0.7602 - dense_2_loss: 0.3459 - dense_3_loss: 0.4143 - val_loss: 0.7960 - val_dense_2_loss: 0.3634 - val_dense_3_loss: 0.4326\n",
      "Epoch 78/100\n",
      "11610/11610 [==============================] - 1s 62us/sample - loss: 0.7577 - dense_2_loss: 0.3450 - dense_3_loss: 0.4127 - val_loss: 0.7996 - val_dense_2_loss: 0.3650 - val_dense_3_loss: 0.4346\n"
     ]
    }
   ],
   "source": [
    "model.compile(loss=\"mean_squared_error\", optimizer=\"sgd\")\n",
    "callbacks = [keras.callbacks.EarlyStopping(patience=5, min_delta=1e-2),\n",
    "             keras.callbacks.TensorBoard(log_dir='logs/wide-deep-multi-input-callbacks')]\n",
    "\n",
    "history = model.fit([x_train_scaled_wide,x_train_scaled_deep], [y_train,y_train],\n",
    "                    validation_data = ([x_valid_scaled_wide,x_valid_scaled_deep], \n",
    "                                       [y_valid,y_valid]),\n",
    "                    epochs = 100,\n",
    "                    callbacks = callbacks)"
   ]
  },
  {
   "cell_type": "code",
   "execution_count": 13,
   "metadata": {},
   "outputs": [
    {
     "data": {
      "image/png": "[encoded data removed]",
      "text/plain": [
       "<Figure size 576x360 with 1 Axes>"
      ]
     },
     "metadata": {
      "needs_background": "light"
     },
     "output_type": "display_data"
    }
   ],
   "source": [
    "def plot_learning_curves(history):\n",
    "    pd.DataFrame(history.history).plot(figsize=(8, 5))\n",
    "    plt.grid(True)\n",
    "    plt.gca().set_ylim(0, 2)\n",
    "    plt.show()\n",
    "plot_learning_curves(history)"
   ]
  },
  {
   "cell_type": "code",
   "execution_count": 14,
   "metadata": {},
   "outputs": [
    {
     "name": "stdout",
     "output_type": "stream",
     "text": [
      "5160/5160 [==============================] - 0s 32us/sample - loss: 0.7832 - dense_2_loss: 0.3588 - dense_3_loss: 0.4244\n"
     ]
    },
    {
     "data": {
      "text/plain": [
       "[0.7831862974536511, 0.35879305, 0.42439333]"
      ]
     },
     "execution_count": 14,
     "metadata": {},
     "output_type": "execute_result"
    }
   ],
   "source": [
    "model.evaluate([x_test_scaled_wide,x_test_scaled_deep], [y_test,y_test])"
   ]
  },
  {
   "cell_type": "code",
   "execution_count": null,
   "metadata": {},
   "outputs": [],
   "source": []
  }
 ],
 "metadata": {
  "kernelspec": {
   "display_name": "Python 3",
   "language": "python",
   "name": "python3"
  },
  "language_info": {
   "codemirror_mode": {
    "name": "ipython",
    "version": 3
   },
   "file_extension": ".py",
   "mimetype": "text/x-python",
   "name": "python",
   "nbconvert_exporter": "python",
   "pygments_lexer": "ipython3",
   "version": "3.7.6"
  }
 },
 "nbformat": 4,
 "nbformat_minor": 2
}
