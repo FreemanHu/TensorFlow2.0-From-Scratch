{
 "cells": [
  {
   "cell_type": "code",
   "execution_count": 1,
   "metadata": {},
   "outputs": [
    {
     "name": "stdout",
     "output_type": "stream",
     "text": [
      "2.1.0\n",
      "sys.version_info(major=3, minor=7, micro=6, releaselevel='final', serial=0)\n",
      "matplotlib 3.2.0\n",
      "numpy 1.18.1\n",
      "pandas 1.0.1\n",
      "sklearn 0.22.2.post1\n",
      "tensorflow 2.1.0\n",
      "tensorflow_core.python.keras.api._v2.keras 2.2.4-tf\n"
     ]
    }
   ],
   "source": [
    "import matplotlib as mpl\n",
    "import matplotlib.pyplot as plt\n",
    "%matplotlib inline\n",
    "import numpy as np\n",
    "import sklearn\n",
    "import pandas as pd\n",
    "import os\n",
    "import sys\n",
    "import time\n",
    "import tensorflow as tf\n",
    "\n",
    "from tensorflow import keras\n",
    "\n",
    "print(tf.__version__)\n",
    "print(sys.version_info)\n",
    "for module in mpl, np, pd, sklearn, tf, keras:\n",
    "    print(module.__name__, module.__version__)"
   ]
  },
  {
   "cell_type": "code",
   "execution_count": 2,
   "metadata": {},
   "outputs": [
    {
     "name": "stdout",
     "output_type": "stream",
     "text": [
      ".. _california_housing_dataset:\n",
      "\n",
      "California Housing dataset\n",
      "--------------------------\n",
      "\n",
      "**Data Set Characteristics:**\n",
      "\n",
      "    :Number of Instances: 20640\n",
      "\n",
      "    :Number of Attributes: 8 numeric, predictive attributes and the target\n",
      "\n",
      "    :Attribute Information:\n",
      "        - MedInc        median income in block\n",
      "        - HouseAge      median house age in block\n",
      "        - AveRooms      average number of rooms\n",
      "        - AveBedrms     average number of bedrooms\n",
      "        - Population    block population\n",
      "        - AveOccup      average house occupancy\n",
      "        - Latitude      house block latitude\n",
      "        - Longitude     house block longitude\n",
      "\n",
      "    :Missing Attribute Values: None\n",
      "\n",
      "This dataset was obtained from the StatLib repository.\n",
      "http://lib.stat.cmu.edu/datasets/\n",
      "\n",
      "The target variable is the median house value for California districts.\n",
      "\n",
      "This dataset was derived from the 1990 U.S. census, using one row per census\n",
      "block group. A block group is the smallest geographical unit for which the U.S.\n",
      "Census Bureau publishes sample data (a block group typically has a population\n",
      "of 600 to 3,000 people).\n",
      "\n",
      "It can be downloaded/loaded using the\n",
      ":func:`sklearn.datasets.fetch_california_housing` function.\n",
      "\n",
      ".. topic:: References\n",
      "\n",
      "    - Pace, R. Kelley and Ronald Barry, Sparse Spatial Autoregressions,\n",
      "      Statistics and Probability Letters, 33 (1997) 291-297\n",
      "\n",
      "(20640, 8)\n",
      "(20640,)\n"
     ]
    }
   ],
   "source": [
    "from sklearn.datasets import fetch_california_housing\n",
    "housing = fetch_california_housing()\n",
    "print(housing.DESCR)\n",
    "print(housing.data.shape)\n",
    "print(housing.target.shape)"
   ]
  },
  {
   "cell_type": "code",
   "execution_count": 3,
   "metadata": {},
   "outputs": [
    {
     "name": "stdout",
     "output_type": "stream",
     "text": [
      "array([[ 8.32520000e+00,  4.10000000e+01,  6.98412698e+00,\n",
      "         1.02380952e+00,  3.22000000e+02,  2.55555556e+00,\n",
      "         3.78800000e+01, -1.22230000e+02],\n",
      "       [ 8.30140000e+00,  2.10000000e+01,  6.23813708e+00,\n",
      "         9.71880492e-01,  2.40100000e+03,  2.10984183e+00,\n",
      "         3.78600000e+01, -1.22220000e+02],\n",
      "       [ 7.25740000e+00,  5.20000000e+01,  8.28813559e+00,\n",
      "         1.07344633e+00,  4.96000000e+02,  2.80225989e+00,\n",
      "         3.78500000e+01, -1.22240000e+02],\n",
      "       [ 5.64310000e+00,  5.20000000e+01,  5.81735160e+00,\n",
      "         1.07305936e+00,  5.58000000e+02,  2.54794521e+00,\n",
      "         3.78500000e+01, -1.22250000e+02],\n",
      "       [ 3.84620000e+00,  5.20000000e+01,  6.28185328e+00,\n",
      "         1.08108108e+00,  5.65000000e+02,  2.18146718e+00,\n",
      "         3.78500000e+01, -1.22250000e+02]])\n",
      "array([4.526, 3.585, 3.521, 3.413, 3.422])\n"
     ]
    }
   ],
   "source": [
    "import pprint\n",
    "\n",
    "pprint.pprint(housing.data[0:5])\n",
    "pprint.pprint(housing.target[0:5])"
   ]
  },
  {
   "cell_type": "code",
   "execution_count": 4,
   "metadata": {},
   "outputs": [
    {
     "name": "stdout",
     "output_type": "stream",
     "text": [
      "(11610, 8) (11610,)\n",
      "(3870, 8) (3870,)\n",
      "(5160, 8) (5160,)\n"
     ]
    }
   ],
   "source": [
    "# 分割数据集的工具\n",
    "from sklearn.model_selection import train_test_split\n",
    "\n",
    "# 分割训练集和测试集，比例为3:1\n",
    "x_train_all, x_test, y_train_all, y_test = train_test_split(\n",
    "    housing.data, housing.target, random_state = 7) \n",
    "# 分割训练集和开发集，比例是3:1，总的比例是9:3:4\n",
    "x_train, x_valid, y_train, y_valid = train_test_split(\n",
    "    x_train_all, y_train_all, random_state = 11)\n",
    "\n",
    "print(x_train.shape, y_train.shape)\n",
    "print(x_valid.shape, y_valid.shape)\n",
    "print(x_test.shape, y_test.shape)\n"
   ]
  },
  {
   "cell_type": "code",
   "execution_count": 5,
   "metadata": {},
   "outputs": [],
   "source": [
    "# 标准归一化工具\n",
    "from sklearn.preprocessing import StandardScaler\n",
    "\n",
    "scaler = StandardScaler()\n",
    "x_train_scaled = scaler.fit_transform(x_train)\n",
    "x_valid_scaled = scaler.transform(x_valid)\n",
    "x_test_scaled = scaler.transform(x_test)"
   ]
  },
  {
   "cell_type": "code",
   "execution_count": 11,
   "metadata": {},
   "outputs": [
    {
     "name": "stdout",
     "output_type": "stream",
     "text": [
      "Model: \"model_1\"\n",
      "__________________________________________________________________________________________________\n",
      "Layer (type)                    Output Shape         Param #     Connected to                     \n",
      "==================================================================================================\n",
      "input_2 (InputLayer)            [(None, 8)]          0                                            \n",
      "__________________________________________________________________________________________________\n",
      "dense_3 (Dense)                 (None, 30)           270         input_2[0][0]                    \n",
      "__________________________________________________________________________________________________\n",
      "dense_4 (Dense)                 (None, 30)           930         dense_3[0][0]                    \n",
      "__________________________________________________________________________________________________\n",
      "concatenate_1 (Concatenate)     (None, 38)           0           input_2[0][0]                    \n",
      "                                                                 dense_4[0][0]                    \n",
      "__________________________________________________________________________________________________\n",
      "dense_5 (Dense)                 (None, 1)            39          concatenate_1[0][0]              \n",
      "==================================================================================================\n",
      "Total params: 1,239\n",
      "Trainable params: 1,239\n",
      "Non-trainable params: 0\n",
      "__________________________________________________________________________________________________\n"
     ]
    }
   ],
   "source": [
    "input = keras.layers.Input(shape=x_train.shape[1:])\n",
    "X = keras.layers.Dense(30,activation='tanh',)(input)\n",
    "X = keras.layers.Dense(30,activation='tanh')(X)\n",
    "X = keras.layers.concatenate([input,X])\n",
    "output = keras.layers.Dense(1)(X)\n",
    "\n",
    "model = keras.models.Model(inputs=input,outputs=output)\n",
    "model.summary()"
   ]
  },
  {
   "cell_type": "code",
   "execution_count": 12,
   "metadata": {},
   "outputs": [
    {
     "name": "stdout",
     "output_type": "stream",
     "text": [
      "Train on 11610 samples, validate on 3870 samples\n",
      "Epoch 1/100\n",
      "11610/11610 [==============================] - 1s 96us/sample - loss: 2.0164 - val_loss: 0.7210\n",
      "Epoch 2/100\n",
      "11610/11610 [==============================] - 1s 64us/sample - loss: 0.6423 - val_loss: 0.6458\n",
      "Epoch 3/100\n",
      "11610/11610 [==============================] - 1s 65us/sample - loss: 0.5948 - val_loss: 0.6126\n",
      "Epoch 4/100\n",
      "11610/11610 [==============================] - 1s 65us/sample - loss: 0.5699 - val_loss: 0.5907\n",
      "Epoch 5/100\n",
      "11610/11610 [==============================] - 1s 65us/sample - loss: 0.5529 - val_loss: 0.5761\n",
      "Epoch 6/100\n",
      "11610/11610 [==============================] - 1s 65us/sample - loss: 0.5397 - val_loss: 0.5619\n",
      "Epoch 7/100\n",
      "11610/11610 [==============================] - 1s 66us/sample - loss: 0.5291 - val_loss: 0.5515\n",
      "Epoch 8/100\n",
      "11610/11610 [==============================] - 1s 103us/sample - loss: 0.5208 - val_loss: 0.5446\n",
      "Epoch 9/100\n",
      "11610/11610 [==============================] - 1s 71us/sample - loss: 0.5132 - val_loss: 0.5366\n",
      "Epoch 10/100\n",
      "11610/11610 [==============================] - 1s 65us/sample - loss: 0.5074 - val_loss: 0.5318\n",
      "Epoch 11/100\n",
      "11610/11610 [==============================] - 1s 66us/sample - loss: 0.5020 - val_loss: 0.5253\n",
      "Epoch 12/100\n",
      "11610/11610 [==============================] - 1s 65us/sample - loss: 0.4971 - val_loss: 0.5216\n",
      "Epoch 13/100\n",
      "11610/11610 [==============================] - 1s 70us/sample - loss: 0.4930 - val_loss: 0.5177\n",
      "Epoch 14/100\n",
      "11610/11610 [==============================] - 1s 75us/sample - loss: 0.4890 - val_loss: 0.5158\n",
      "Epoch 15/100\n",
      "11610/11610 [==============================] - 1s 77us/sample - loss: 0.4856 - val_loss: 0.5115\n",
      "Epoch 16/100\n",
      "11610/11610 [==============================] - 1s 75us/sample - loss: 0.4822 - val_loss: 0.5067\n",
      "Epoch 17/100\n",
      "11610/11610 [==============================] - 1s 70us/sample - loss: 0.4793 - val_loss: 0.5037\n",
      "Epoch 18/100\n",
      "11610/11610 [==============================] - 1s 76us/sample - loss: 0.4762 - val_loss: 0.5037\n",
      "Epoch 19/100\n",
      "11610/11610 [==============================] - 1s 69us/sample - loss: 0.4736 - val_loss: 0.4988\n",
      "Epoch 20/100\n",
      "11610/11610 [==============================] - 1s 68us/sample - loss: 0.4710 - val_loss: 0.4984\n",
      "Epoch 21/100\n",
      "11610/11610 [==============================] - 1s 74us/sample - loss: 0.4688 - val_loss: 0.4945\n",
      "Epoch 22/100\n",
      "11610/11610 [==============================] - 1s 79us/sample - loss: 0.4666 - val_loss: 0.4928\n",
      "Epoch 23/100\n",
      "11610/11610 [==============================] - 1s 81us/sample - loss: 0.4643 - val_loss: 0.4904\n",
      "Epoch 24/100\n",
      "11610/11610 [==============================] - 1s 73us/sample - loss: 0.4623 - val_loss: 0.4880\n",
      "Epoch 25/100\n",
      "11610/11610 [==============================] - 1s 73us/sample - loss: 0.4603 - val_loss: 0.4860\n",
      "Epoch 26/100\n",
      "11610/11610 [==============================] - 1s 70us/sample - loss: 0.4586 - val_loss: 0.4846\n",
      "Epoch 27/100\n",
      "11610/11610 [==============================] - 1s 70us/sample - loss: 0.4566 - val_loss: 0.4829\n",
      "Epoch 28/100\n",
      "11610/11610 [==============================] - 1s 80us/sample - loss: 0.4550 - val_loss: 0.4829\n",
      "Epoch 29/100\n",
      "11610/11610 [==============================] - 1s 71us/sample - loss: 0.4534 - val_loss: 0.4802\n"
     ]
    }
   ],
   "source": [
    "sgd = keras.optimizers.SGD(0.001)\n",
    "model.compile(loss=\"mean_squared_error\", optimizer=sgd)\n",
    "callbacks = [keras.callbacks.EarlyStopping(patience=5, min_delta=1e-2),\n",
    "             keras.callbacks.TensorBoard(log_dir='logs/wide-deep-callbacks')]\n",
    "\n",
    "history = model.fit(x_train_scaled, y_train,\n",
    "                    validation_data = (x_valid_scaled, y_valid),\n",
    "                    epochs = 100,\n",
    "                    callbacks = callbacks)"
   ]
  },
  {
   "cell_type": "code",
   "execution_count": 8,
   "metadata": {},
   "outputs": [
    {
     "data": {
      "image/png": "[encoded data removed]",
      "text/plain": [
       "<Figure size 576x360 with 1 Axes>"
      ]
     },
     "metadata": {
      "needs_background": "light"
     },
     "output_type": "display_data"
    }
   ],
   "source": [
    "def plot_learning_curves(history):\n",
    "    pd.DataFrame(history.history).plot(figsize=(8, 5))\n",
    "    plt.grid(True)\n",
    "    #plt.gca().set_ylim(0, 1)\n",
    "    plt.show()\n",
    "plot_learning_curves(history)"
   ]
  },
  {
   "cell_type": "code",
   "execution_count": 9,
   "metadata": {},
   "outputs": [
    {
     "name": "stdout",
     "output_type": "stream",
     "text": [
      "5160/5160 [==============================] - 0s 27us/sample - loss: 141044359.1223\n"
     ]
    },
    {
     "data": {
      "text/plain": [
       "141044359.12231106"
      ]
     },
     "execution_count": 9,
     "metadata": {},
     "output_type": "execute_result"
    }
   ],
   "source": [
    "model.evaluate(x_test_scaled, y_test)"
   ]
  },
  {
   "cell_type": "code",
   "execution_count": null,
   "metadata": {},
   "outputs": [],
   "source": []
  }
 ],
 "metadata": {
  "kernelspec": {
   "display_name": "Python 3",
   "language": "python",
   "name": "python3"
  },
  "language_info": {
   "codemirror_mode": {
    "name": "ipython",
    "version": 3
   },
   "file_extension": ".py",
   "mimetype": "text/x-python",
   "name": "python",
   "nbconvert_exporter": "python",
   "pygments_lexer": "ipython3",
   "version": "3.7.6"
  }
 },
 "nbformat": 4,
 "nbformat_minor": 2
}
