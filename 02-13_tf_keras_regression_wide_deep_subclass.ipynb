{
 "cells": [
  {
   "cell_type": "code",
   "execution_count": 1,
   "metadata": {},
   "outputs": [
    {
     "name": "stdout",
     "output_type": "stream",
     "text": [
      "2.0.0-alpha0\n",
      "sys.version_info(major=3, minor=7, micro=6, releaselevel='final', serial=0)\n",
      "matplotlib 3.2.0\n",
      "numpy 1.16.2\n",
      "pandas 1.0.1\n",
      "sklearn 0.22.2.post1\n",
      "tensorflow 2.0.0-alpha0\n",
      "tensorflow.python.keras.api._v2.keras 2.2.4-tf\n"
     ]
    }
   ],
   "source": [
    "import matplotlib as mpl\n",
    "import matplotlib.pyplot as plt\n",
    "%matplotlib inline\n",
    "import numpy as np\n",
    "import sklearn\n",
    "import pandas as pd\n",
    "import os\n",
    "import sys\n",
    "import time\n",
    "import tensorflow as tf\n",
    "\n",
    "from tensorflow import keras\n",
    "\n",
    "print(tf.__version__)\n",
    "print(sys.version_info)\n",
    "for module in mpl, np, pd, sklearn, tf, keras:\n",
    "    print(module.__name__, module.__version__)"
   ]
  },
  {
   "cell_type": "code",
   "execution_count": 2,
   "metadata": {},
   "outputs": [
    {
     "name": "stdout",
     "output_type": "stream",
     "text": [
      ".. _california_housing_dataset:\n",
      "\n",
      "California Housing dataset\n",
      "--------------------------\n",
      "\n",
      "**Data Set Characteristics:**\n",
      "\n",
      "    :Number of Instances: 20640\n",
      "\n",
      "    :Number of Attributes: 8 numeric, predictive attributes and the target\n",
      "\n",
      "    :Attribute Information:\n",
      "        - MedInc        median income in block\n",
      "        - HouseAge      median house age in block\n",
      "        - AveRooms      average number of rooms\n",
      "        - AveBedrms     average number of bedrooms\n",
      "        - Population    block population\n",
      "        - AveOccup      average house occupancy\n",
      "        - Latitude      house block latitude\n",
      "        - Longitude     house block longitude\n",
      "\n",
      "    :Missing Attribute Values: None\n",
      "\n",
      "This dataset was obtained from the StatLib repository.\n",
      "http://lib.stat.cmu.edu/datasets/\n",
      "\n",
      "The target variable is the median house value for California districts.\n",
      "\n",
      "This dataset was derived from the 1990 U.S. census, using one row per census\n",
      "block group. A block group is the smallest geographical unit for which the U.S.\n",
      "Census Bureau publishes sample data (a block group typically has a population\n",
      "of 600 to 3,000 people).\n",
      "\n",
      "It can be downloaded/loaded using the\n",
      ":func:`sklearn.datasets.fetch_california_housing` function.\n",
      "\n",
      ".. topic:: References\n",
      "\n",
      "    - Pace, R. Kelley and Ronald Barry, Sparse Spatial Autoregressions,\n",
      "      Statistics and Probability Letters, 33 (1997) 291-297\n",
      "\n",
      "(20640, 8)\n",
      "(20640,)\n"
     ]
    }
   ],
   "source": [
    "from sklearn.datasets import fetch_california_housing\n",
    "housing = fetch_california_housing()\n",
    "print(housing.DESCR)\n",
    "print(housing.data.shape)\n",
    "print(housing.target.shape)"
   ]
  },
  {
   "cell_type": "code",
   "execution_count": 3,
   "metadata": {},
   "outputs": [
    {
     "name": "stdout",
     "output_type": "stream",
     "text": [
      "array([[ 8.32520000e+00,  4.10000000e+01,  6.98412698e+00,\n",
      "         1.02380952e+00,  3.22000000e+02,  2.55555556e+00,\n",
      "         3.78800000e+01, -1.22230000e+02],\n",
      "       [ 8.30140000e+00,  2.10000000e+01,  6.23813708e+00,\n",
      "         9.71880492e-01,  2.40100000e+03,  2.10984183e+00,\n",
      "         3.78600000e+01, -1.22220000e+02],\n",
      "       [ 7.25740000e+00,  5.20000000e+01,  8.28813559e+00,\n",
      "         1.07344633e+00,  4.96000000e+02,  2.80225989e+00,\n",
      "         3.78500000e+01, -1.22240000e+02],\n",
      "       [ 5.64310000e+00,  5.20000000e+01,  5.81735160e+00,\n",
      "         1.07305936e+00,  5.58000000e+02,  2.54794521e+00,\n",
      "         3.78500000e+01, -1.22250000e+02],\n",
      "       [ 3.84620000e+00,  5.20000000e+01,  6.28185328e+00,\n",
      "         1.08108108e+00,  5.65000000e+02,  2.18146718e+00,\n",
      "         3.78500000e+01, -1.22250000e+02]])\n",
      "array([4.526, 3.585, 3.521, 3.413, 3.422])\n"
     ]
    }
   ],
   "source": [
    "import pprint\n",
    "\n",
    "pprint.pprint(housing.data[0:5])\n",
    "pprint.pprint(housing.target[0:5])"
   ]
  },
  {
   "cell_type": "code",
   "execution_count": 4,
   "metadata": {},
   "outputs": [
    {
     "name": "stdout",
     "output_type": "stream",
     "text": [
      "(11610, 8) (11610,)\n",
      "(3870, 8) (3870,)\n",
      "(5160, 8) (5160,)\n"
     ]
    }
   ],
   "source": [
    "# 分割数据集的工具\n",
    "from sklearn.model_selection import train_test_split\n",
    "\n",
    "# 分割训练集和测试集，比例为3:1\n",
    "x_train_all, x_test, y_train_all, y_test = train_test_split(\n",
    "    housing.data, housing.target, random_state = 7) \n",
    "# 分割训练集和开发集，比例是3:1，总的比例是9:3:4\n",
    "x_train, x_valid, y_train, y_valid = train_test_split(\n",
    "    x_train_all, y_train_all, random_state = 11)\n",
    "\n",
    "print(x_train.shape, y_train.shape)\n",
    "print(x_valid.shape, y_valid.shape)\n",
    "print(x_test.shape, y_test.shape)\n"
   ]
  },
  {
   "cell_type": "code",
   "execution_count": 5,
   "metadata": {},
   "outputs": [],
   "source": [
    "# 标准归一化工具\n",
    "from sklearn.preprocessing import StandardScaler\n",
    "\n",
    "scaler = StandardScaler()\n",
    "x_train_scaled = scaler.fit_transform(x_train)\n",
    "x_valid_scaled = scaler.transform(x_valid)\n",
    "x_test_scaled = scaler.transform(x_test)"
   ]
  },
  {
   "cell_type": "code",
   "execution_count": 6,
   "metadata": {},
   "outputs": [],
   "source": [
    "class WideDeepModel(keras.models.Model) :\n",
    "    def __init__(self):\n",
    "        super(WideDeepModel,self).__init__()\n",
    "        self.hiden_layer1 = keras.layers.Dense(30,activation='relu')\n",
    "        self.hiden_layer2 = keras.layers.Dense(30,activation='relu')\n",
    "        self.output_layer = keras.layers.Dense(1)\n",
    "        \n",
    "    def call(self,input):\n",
    "        hiden1 = self.hiden_layer1(input)\n",
    "        hiden2 = self.hiden_layer2(hiden1)\n",
    "        concat = keras.layers.concatenate([input,hiden2])\n",
    "        output = self.output_layer(concat)\n",
    "        return output"
   ]
  },
  {
   "cell_type": "code",
   "execution_count": 7,
   "metadata": {},
   "outputs": [
    {
     "name": "stdout",
     "output_type": "stream",
     "text": [
      "Model: \"wide_deep_model\"\n",
      "_________________________________________________________________\n",
      "Layer (type)                 Output Shape              Param #   \n",
      "=================================================================\n",
      "dense (Dense)                multiple                  270       \n",
      "_________________________________________________________________\n",
      "dense_1 (Dense)              multiple                  930       \n",
      "_________________________________________________________________\n",
      "dense_2 (Dense)              multiple                  39        \n",
      "=================================================================\n",
      "Total params: 1,239\n",
      "Trainable params: 1,239\n",
      "Non-trainable params: 0\n",
      "_________________________________________________________________\n"
     ]
    }
   ],
   "source": [
    "model = WideDeepModel()\n",
    "model.build(input_shape=(None,8))\n",
    "model.summary()"
   ]
  },
  {
   "cell_type": "code",
   "execution_count": 8,
   "metadata": {},
   "outputs": [
    {
     "name": "stdout",
     "output_type": "stream",
     "text": [
      "Train on 11610 samples, validate on 3870 samples\n",
      "Epoch 1/100\n",
      "11610/11610 [==============================] - 1s 79us/sample - loss: 1.9679 - val_loss: 0.8958\n",
      "Epoch 2/100\n",
      "11610/11610 [==============================] - 1s 61us/sample - loss: 0.7004 - val_loss: 0.7223\n",
      "Epoch 3/100\n",
      "11610/11610 [==============================] - 1s 50us/sample - loss: 0.6364 - val_loss: 0.6846\n",
      "Epoch 4/100\n",
      "11610/11610 [==============================] - 1s 95us/sample - loss: 0.6015 - val_loss: 0.6409\n",
      "Epoch 5/100\n",
      "11610/11610 [==============================] - 1s 73us/sample - loss: 0.5763 - val_loss: 0.6127\n",
      "Epoch 6/100\n",
      "11610/11610 [==============================] - 1s 100us/sample - loss: 0.5545 - val_loss: 0.6092\n",
      "Epoch 7/100\n",
      "11610/11610 [==============================] - 1s 63us/sample - loss: 0.5386 - val_loss: 0.5819\n",
      "Epoch 8/100\n",
      "11610/11610 [==============================] - 1s 49us/sample - loss: 0.5211 - val_loss: 0.5644\n",
      "Epoch 9/100\n",
      "11610/11610 [==============================] - 1s 44us/sample - loss: 0.5082 - val_loss: 0.5368\n",
      "Epoch 10/100\n",
      "11610/11610 [==============================] - 1s 44us/sample - loss: 0.4990 - val_loss: 0.5277\n",
      "Epoch 11/100\n",
      "11610/11610 [==============================] - 1s 45us/sample - loss: 0.4880 - val_loss: 0.5163\n",
      "Epoch 12/100\n",
      "11610/11610 [==============================] - 1s 44us/sample - loss: 0.4821 - val_loss: 0.5060\n",
      "Epoch 13/100\n",
      "11610/11610 [==============================] - 1s 45us/sample - loss: 0.4726 - val_loss: 0.5013\n",
      "Epoch 14/100\n",
      "11610/11610 [==============================] - 1s 45us/sample - loss: 0.4665 - val_loss: 0.5220\n",
      "Epoch 15/100\n",
      "11610/11610 [==============================] - 1s 45us/sample - loss: 0.4615 - val_loss: 0.4861\n",
      "Epoch 16/100\n",
      "11610/11610 [==============================] - 1s 45us/sample - loss: 0.4555 - val_loss: 0.4786\n",
      "Epoch 17/100\n",
      "11610/11610 [==============================] - 1s 45us/sample - loss: 0.4506 - val_loss: 0.4755\n",
      "Epoch 18/100\n",
      "11610/11610 [==============================] - 1s 46us/sample - loss: 0.4470 - val_loss: 0.4699\n",
      "Epoch 19/100\n",
      "11610/11610 [==============================] - 1s 84us/sample - loss: 0.4431 - val_loss: 0.4666\n",
      "Epoch 20/100\n",
      "11610/11610 [==============================] - 1s 46us/sample - loss: 0.4395 - val_loss: 0.4605\n",
      "Epoch 21/100\n",
      "11610/11610 [==============================] - 1s 48us/sample - loss: 0.4375 - val_loss: 0.4594\n",
      "Epoch 22/100\n",
      "11610/11610 [==============================] - 1s 48us/sample - loss: 0.4317 - val_loss: 0.4529\n",
      "Epoch 23/100\n",
      "11610/11610 [==============================] - 1s 79us/sample - loss: 0.4300 - val_loss: 0.4553\n",
      "Epoch 24/100\n",
      "11610/11610 [==============================] - 1s 49us/sample - loss: 0.4281 - val_loss: 0.4498\n",
      "Epoch 25/100\n",
      "11610/11610 [==============================] - 1s 59us/sample - loss: 0.4249 - val_loss: 0.4466\n",
      "Epoch 26/100\n",
      "11610/11610 [==============================] - 1s 60us/sample - loss: 0.4215 - val_loss: 0.4457\n",
      "Epoch 27/100\n",
      "11610/11610 [==============================] - 1s 67us/sample - loss: 0.4190 - val_loss: 0.4378\n",
      "Epoch 28/100\n",
      "11610/11610 [==============================] - 1s 49us/sample - loss: 0.4171 - val_loss: 0.4352\n",
      "Epoch 29/100\n",
      "11610/11610 [==============================] - 1s 50us/sample - loss: 0.4137 - val_loss: 0.4327\n",
      "Epoch 30/100\n",
      "11610/11610 [==============================] - 1s 55us/sample - loss: 0.4134 - val_loss: 0.4312\n",
      "Epoch 31/100\n",
      "11610/11610 [==============================] - 1s 67us/sample - loss: 0.4093 - val_loss: 0.4275\n",
      "Epoch 32/100\n",
      "11610/11610 [==============================] - 1s 57us/sample - loss: 0.4073 - val_loss: 0.4255\n",
      "Epoch 33/100\n",
      "11610/11610 [==============================] - 1s 60us/sample - loss: 0.4060 - val_loss: 0.4237\n",
      "Epoch 34/100\n",
      "11610/11610 [==============================] - 1s 49us/sample - loss: 0.4028 - val_loss: 0.4210\n",
      "Epoch 35/100\n",
      "11610/11610 [==============================] - 1s 45us/sample - loss: 0.4021 - val_loss: 0.4184\n",
      "Epoch 36/100\n",
      "11610/11610 [==============================] - 1s 44us/sample - loss: 0.4001 - val_loss: 0.4158\n",
      "Epoch 37/100\n",
      "11610/11610 [==============================] - 1s 45us/sample - loss: 0.3985 - val_loss: 0.4248\n",
      "Epoch 38/100\n",
      "11610/11610 [==============================] - 1s 48us/sample - loss: 0.3971 - val_loss: 0.4123\n",
      "Epoch 39/100\n",
      "11610/11610 [==============================] - 1s 58us/sample - loss: 0.3951 - val_loss: 0.4099\n",
      "Epoch 40/100\n",
      "11610/11610 [==============================] - 1s 75us/sample - loss: 0.3918 - val_loss: 0.4080\n",
      "Epoch 41/100\n",
      "11610/11610 [==============================] - 1s 74us/sample - loss: 0.3907 - val_loss: 0.4074\n"
     ]
    }
   ],
   "source": [
    "model.compile(loss=\"mean_squared_error\", optimizer=\"sgd\")\n",
    "callbacks = [keras.callbacks.EarlyStopping(patience=5, min_delta=1e-2),\n",
    "             keras.callbacks.TensorBoard(log_dir='logs/subclasses-callbacks')]\n",
    "\n",
    "history = model.fit(x_train_scaled, y_train,\n",
    "                    validation_data = (x_valid_scaled, y_valid),\n",
    "                    epochs = 100,\n",
    "                    callbacks = callbacks)"
   ]
  },
  {
   "cell_type": "code",
   "execution_count": 9,
   "metadata": {},
   "outputs": [
    {
     "data": {
      "image/png": "[encoded data removed]",
      "text/plain": [
       "<Figure size 576x360 with 1 Axes>"
      ]
     },
     "metadata": {
      "needs_background": "light"
     },
     "output_type": "display_data"
    }
   ],
   "source": [
    "def plot_learning_curves(history):\n",
    "    pd.DataFrame(history.history).plot(figsize=(8, 5))\n",
    "    plt.grid(True)\n",
    "    #plt.gca().set_ylim(0, 1)\n",
    "    plt.show()\n",
    "plot_learning_curves(history)"
   ]
  },
  {
   "cell_type": "code",
   "execution_count": 10,
   "metadata": {},
   "outputs": [
    {
     "name": "stdout",
     "output_type": "stream",
     "text": [
      "5160/5160 [==============================] - 0s 34us/sample - loss: 0.4077\n"
     ]
    },
    {
     "data": {
      "text/plain": [
       "0.40766231523927793"
      ]
     },
     "execution_count": 10,
     "metadata": {},
     "output_type": "execute_result"
    }
   ],
   "source": [
    "model.evaluate(x_test_scaled, y_test)"
   ]
  },
  {
   "cell_type": "code",
   "execution_count": null,
   "metadata": {},
   "outputs": [],
   "source": []
  }
 ],
 "metadata": {
  "kernelspec": {
   "display_name": "Python 3",
   "language": "python",
   "name": "python3"
  },
  "language_info": {
   "codemirror_mode": {
    "name": "ipython",
    "version": 3
   },
   "file_extension": ".py",
   "mimetype": "text/x-python",
   "name": "python",
   "nbconvert_exporter": "python",
   "pygments_lexer": "ipython3",
   "version": "3.7.6"
  }
 },
 "nbformat": 4,
 "nbformat_minor": 2
}
